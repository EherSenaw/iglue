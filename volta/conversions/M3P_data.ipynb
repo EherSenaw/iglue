{
 "cells": [
  {
   "cell_type": "code",
   "execution_count": 1,
   "metadata": {},
   "outputs": [],
   "source": [
    "import lmdb\n",
    "import tqdm\n",
    "import pickle\n",
    "import base64\n",
    "import numpy as np"
   ]
  },
  {
   "cell_type": "code",
   "execution_count": 6,
   "metadata": {},
   "outputs": [],
   "source": [
    "features_path1 = \"/science/image/nlp-datasets/emanuele/data/flickr30k/features/flickr30k_boxes36.lmdb\"\n",
    "\n",
    "env1 = lmdb.open(features_path1, max_readers=1, readonly=True, lock=False, readahead=False, meminit=False)\n",
    "with env1.begin(write=False) as txn:\n",
    "    _image_ids1 = pickle.loads(txn.get(\"keys\".encode()))"
   ]
  },
  {
   "cell_type": "code",
   "execution_count": 5,
   "metadata": {},
   "outputs": [],
   "source": [
    "features_path = \"/science/image/nlp-datasets/emanuele/data/flickr30k/features/flickr30k_X101.lmdb\"\n",
    "\n",
    "env = lmdb.open(features_path, max_readers=1, readonly=True, lock=False, readahead=False, meminit=False)\n",
    "with env.begin(write=False) as txn:\n",
    "    _image_ids = pickle.loads(txn.get(\"keys\".encode()))"
   ]
  },
  {
   "cell_type": "code",
   "execution_count": 3,
   "metadata": {},
   "outputs": [],
   "source": [
    "features_path = \"/science/image/nlp-datasets/emanuele/data/flickr30k/X-101.new.lmdb\"\n",
    "\n",
    "env3 = lmdb.open(features_path, max_readers=1, readonly=True, lock=False, readahead=False, meminit=False)\n",
    "with env3.begin(write=False) as txn:\n",
    "    _image_ids = pickle.loads(txn.get(\"keys\".encode()))"
   ]
  },
  {
   "cell_type": "code",
   "execution_count": 4,
   "metadata": {},
   "outputs": [
    {
     "data": {
      "text/plain": [
       "b'4841988538'"
      ]
     },
     "execution_count": 4,
     "metadata": {},
     "output_type": "execute_result"
    }
   ],
   "source": [
    "_image_ids[0]"
   ]
  },
  {
   "cell_type": "code",
   "execution_count": 8,
   "metadata": {},
   "outputs": [],
   "source": [
    "image_id = '4841988538'.encode()\n",
    "\n",
    "feature_size = 2048\n",
    "\n",
    "with env1.begin(write=False) as txn:\n",
    "    item = pickle.loads(txn.get(image_id))\n",
    "    image_h1 = int(item[\"img_h\"])\n",
    "    image_w1 = int(item[\"img_w\"])\n",
    "    features1 = np.frombuffer(base64.b64decode(item[\"features\"]), dtype=np.float32).reshape(-1, feature_size)\n",
    "    boxes1 = np.frombuffer(base64.b64decode(item['boxes']), dtype=np.float32).reshape(-1, 4)\n",
    "    \n",
    "with env3.begin(write=False) as txn:\n",
    "    item = pickle.loads(txn.get(image_id))\n",
    "    image_h = int(item[\"img_h\"])\n",
    "    image_w = int(item[\"img_w\"])\n",
    "    features = np.frombuffer(base64.b64decode(item[\"features\"]), dtype=np.float32).reshape(-1, feature_size)\n",
    "    boxes = np.frombuffer(base64.b64decode(item['boxes']), dtype=np.float32).reshape(-1, 4)"
   ]
  },
  {
   "cell_type": "code",
   "execution_count": null,
   "metadata": {},
   "outputs": [],
   "source": []
  },
  {
   "cell_type": "code",
   "execution_count": 18,
   "metadata": {},
   "outputs": [
    {
     "data": {
      "text/plain": [
       "b'V\\xf4}I\\x186~\\xe1\\x9d\\xc1k\\x99k7\\xf0\\x0cDs\\xbfG\\x00?\\xc2\\xcf\\xcb\\xe5\\x0b\\x177\\xde\\xd8\\x95\\xc3\\x94\\x9f\\x8dO\\x9d<\\x19\\xd0;\\xec4\\xb0\\x85,\\x00)\\x0b\\xa4\\xb8y\\x03\\xf7Z\\x9a\\xa1&\\xaf\\xe87S\\x00iP\\x02k\\xb1T\\x0c\\xb8p\\x1a\\xa1}#22]\\x1a\\xc6p4\\xa6\\x19\\x12\\xa7\\xec'"
      ]
     },
     "execution_count": 18,
     "metadata": {},
     "output_type": "execute_result"
    }
   ],
   "source": [
    "base64.b64decode(item['features'])"
   ]
  },
  {
   "cell_type": "code",
   "execution_count": 17,
   "metadata": {},
   "outputs": [
    {
     "data": {
      "text/plain": [
       "array([[1.2435629e+00, 1.7972538e-01, 6.9463038e-01, ..., 0.0000000e+00,\n",
       "        0.0000000e+00, 1.2190319e-01],\n",
       "       [2.0684257e-01, 0.0000000e+00, 0.0000000e+00, ..., 0.0000000e+00,\n",
       "        4.3401089e-03, 4.7945714e-01],\n",
       "       [2.7787498e-01, 6.5506995e-02, 2.1077400e-02, ..., 0.0000000e+00,\n",
       "        7.7243048e-01, 1.3849814e-01],\n",
       "       ...,\n",
       "       [0.0000000e+00, 0.0000000e+00, 7.2038263e-02, ..., 0.0000000e+00,\n",
       "        0.0000000e+00, 2.8615105e+00],\n",
       "       [9.4766879e-01, 0.0000000e+00, 3.1734150e-04, ..., 0.0000000e+00,\n",
       "        1.8876450e-01, 6.9569075e-01],\n",
       "       [0.0000000e+00, 0.0000000e+00, 7.3889649e-01, ..., 0.0000000e+00,\n",
       "        0.0000000e+00, 1.7687182e-01]], dtype=float32)"
      ]
     },
     "execution_count": 17,
     "metadata": {},
     "output_type": "execute_result"
    }
   ],
   "source": [
    "features1"
   ]
  },
  {
   "cell_type": "code",
   "execution_count": null,
   "metadata": {},
   "outputs": [],
   "source": []
  },
  {
   "cell_type": "code",
   "execution_count": null,
   "metadata": {},
   "outputs": [],
   "source": []
  },
  {
   "cell_type": "code",
   "execution_count": 22,
   "metadata": {},
   "outputs": [
    {
     "name": "stderr",
     "output_type": "stream",
     "text": [
      " 14%|█▍        | 4752/33854 [02:16<13:55, 34.84it/s]  \n"
     ]
    },
    {
     "ename": "KeyboardInterrupt",
     "evalue": "",
     "output_type": "error",
     "traceback": [
      "\u001b[0;31m---------------------------------------------------------------------------\u001b[0m",
      "\u001b[0;31mKeyboardInterrupt\u001b[0m                         Traceback (most recent call last)",
      "\u001b[0;32m<ipython-input-22-141bfba0def3>\u001b[0m in \u001b[0;36m<module>\u001b[0;34m\u001b[0m\n\u001b[1;32m      7\u001b[0m     \u001b[0;32mwith\u001b[0m \u001b[0menv2\u001b[0m\u001b[0;34m.\u001b[0m\u001b[0mbegin\u001b[0m\u001b[0;34m(\u001b[0m\u001b[0mwrite\u001b[0m\u001b[0;34m=\u001b[0m\u001b[0;32mTrue\u001b[0m\u001b[0;34m)\u001b[0m \u001b[0;32mas\u001b[0m \u001b[0mtxn2\u001b[0m\u001b[0;34m:\u001b[0m\u001b[0;34m\u001b[0m\u001b[0;34m\u001b[0m\u001b[0m\n\u001b[1;32m      8\u001b[0m         \u001b[0;32mfor\u001b[0m \u001b[0mkey\u001b[0m \u001b[0;32min\u001b[0m \u001b[0mtqdm\u001b[0m\u001b[0;34m.\u001b[0m\u001b[0mtqdm\u001b[0m\u001b[0;34m(\u001b[0m\u001b[0m_image_ids\u001b[0m\u001b[0;34m,\u001b[0m \u001b[0mtotal\u001b[0m\u001b[0;34m=\u001b[0m\u001b[0mlen\u001b[0m\u001b[0;34m(\u001b[0m\u001b[0m_image_ids\u001b[0m\u001b[0;34m)\u001b[0m\u001b[0;34m)\u001b[0m\u001b[0;34m:\u001b[0m\u001b[0;34m\u001b[0m\u001b[0;34m\u001b[0m\u001b[0m\n\u001b[0;32m----> 9\u001b[0;31m             \u001b[0mitem\u001b[0m \u001b[0;34m=\u001b[0m \u001b[0mpickle\u001b[0m\u001b[0;34m.\u001b[0m\u001b[0mloads\u001b[0m\u001b[0;34m(\u001b[0m\u001b[0mtxn\u001b[0m\u001b[0;34m.\u001b[0m\u001b[0mget\u001b[0m\u001b[0;34m(\u001b[0m\u001b[0mkey\u001b[0m\u001b[0;34m)\u001b[0m\u001b[0;34m)\u001b[0m\u001b[0;34m\u001b[0m\u001b[0;34m\u001b[0m\u001b[0m\n\u001b[0m\u001b[1;32m     10\u001b[0m \u001b[0;34m\u001b[0m\u001b[0m\n\u001b[1;32m     11\u001b[0m             \u001b[0mitem\u001b[0m\u001b[0;34m[\u001b[0m\u001b[0;34m\"features\"\u001b[0m\u001b[0;34m]\u001b[0m \u001b[0;34m=\u001b[0m \u001b[0mbase64\u001b[0m\u001b[0;34m.\u001b[0m\u001b[0mb64encode\u001b[0m\u001b[0;34m(\u001b[0m\u001b[0mitem\u001b[0m\u001b[0;34m[\u001b[0m\u001b[0;34m\"features\"\u001b[0m\u001b[0;34m]\u001b[0m\u001b[0;34m)\u001b[0m\u001b[0;34m\u001b[0m\u001b[0;34m\u001b[0m\u001b[0m\n",
      "\u001b[0;31mKeyboardInterrupt\u001b[0m: "
     ]
    }
   ],
   "source": [
    "# features_path2 = \"/science/image/nlp-datasets/emanuele/data/flickr30k/X-101.new.lmdb\"\n",
    "\n",
    "# env2 = lmdb.open(features_path2, map_size=1099511627776, writemap=True)\n",
    "\n",
    "# with env.begin(write=False) as txn:\n",
    "#     _image_ids = pickle.loads(txn.get(\"keys\".encode()))\n",
    "#     with env2.begin(write=True) as txn2:\n",
    "#         for key in tqdm.tqdm(_image_ids, total=len(_image_ids)):\n",
    "#             item = pickle.loads(txn.get(key))\n",
    "            \n",
    "#             item[\"features\"] = base64.b64encode(item[\"features\"])\n",
    "#             item[\"boxes\"] = base64.b64encode(item[\"boxes\"])\n",
    "                \n",
    "#             txn2.put(key, pickle.dumps(item))"
   ]
  },
  {
   "cell_type": "code",
   "execution_count": null,
   "metadata": {},
   "outputs": [],
   "source": []
  },
  {
   "cell_type": "code",
   "execution_count": null,
   "metadata": {},
   "outputs": [],
   "source": []
  },
  {
   "cell_type": "code",
   "execution_count": null,
   "metadata": {},
   "outputs": [],
   "source": []
  },
  {
   "cell_type": "code",
   "execution_count": null,
   "metadata": {},
   "outputs": [],
   "source": []
  },
  {
   "cell_type": "code",
   "execution_count": null,
   "metadata": {},
   "outputs": [],
   "source": []
  }
 ],
 "metadata": {
  "kernelspec": {
   "display_name": "Python 3",
   "language": "python",
   "name": "python3"
  },
  "language_info": {
   "codemirror_mode": {
    "name": "ipython",
    "version": 3
   },
   "file_extension": ".py",
   "mimetype": "text/x-python",
   "name": "python",
   "nbconvert_exporter": "python",
   "pygments_lexer": "ipython3",
   "version": "3.7.3"
  }
 },
 "nbformat": 4,
 "nbformat_minor": 4
}
